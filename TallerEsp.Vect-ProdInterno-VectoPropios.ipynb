{
 "cells": [
  {
   "cell_type": "markdown",
   "id": "c7d4de9a-e7dc-4cf3-bd8d-7da869ceb9ac",
   "metadata": {},
   "source": [
    "# Internal Product, Eigen Values, Eigen Vectors"
   ]
  },
  {
   "cell_type": "markdown",
   "id": "230128b3-d03b-432e-b255-5ef83bd74b10",
   "metadata": {},
   "source": [
    "\n",
    "# Complex Internal Products: A Quantum Computing Perspective\n",
    "\n",
    "Welcome to this focused tutorial on the concept of complex internal products, a cornerstone in the mathematical framework underpinning quantum computing. In this session, we will dive deep into the complex internal product for both column vectors and square complex matrices, offering a blend of theoretical insights and practical Python implementations.\n",
    "\n",
    "## What You Will Learn\n",
    "- The definition and significance of the complex internal product in quantum computing.\n",
    "- How to compute the complex internal product for column vectors.\n",
    "- How to compute the complex internal product for square complex matrices.\n",
    "\n",
    "Let's embark on this journey to unravel the mysteries of complex internal products and their pivotal role in quantum computing.\n"
   ]
  },
  {
   "cell_type": "markdown",
   "id": "b29760f7-279e-490a-aa40-c7e6e6f4cd82",
   "metadata": {},
   "source": [
    "\n",
    "## Complex Internal Product for Column Vectors\n",
    "\n",
    "# Properties of the Internal Product in Vector Spaces\n",
    "\n",
    "The internal product (or inner product) is a key concept in the study of vector spaces, providing a way to define geometric concepts such as length, angle, and orthogonality within these spaces. The internal product for a vector space is defined as a function:\n",
    "\n",
    "$$ \\langle {-},{-} \\rangle : \\mathbb{V} \\times \\mathbb{V} \\rightarrow \\mathbb{C}  $$\n",
    "\n",
    "that satisfies the following properties for any vectors $x$, $y$, $z$ in the vector space $V$ and any scalar $c$:\n",
    "\n",
    "1. Nondegenerate\n",
    "   $$ \\langle {V},{V} \\rangle \\geq 0  $$\n",
    "   $$ \\langle {V},{V} \\rangle = 0 \\text{ si solo si }V = \\boldsymbol{0} $$\n",
    "3. Respects addition:\n",
    "   $$ \\langle {V_1 + V_2},{V_3} \\rangle = \\langle {V_1},{V_3} \\rangle + \\langle {V_2},{V_3} \\rangle  $$\n",
    "   $$ \\langle {V_1},{V_2 + V_3} \\rangle = \\langle {V_1},{V_2} \\rangle + \\langle {V_1},{V_3} \\rangle $$\n",
    "5. Respects scalar multiplication\n",
    "   $$ \\langle {c \\cdot V_1},{V_2} \\rangle = c \\times \\langle {V_1},{V_2} \\rangle $$\n",
    "   $$ \\langle {V_1},{c \\cdot V_2} \\rangle = \\overline{c} \\times \\langle {V_1},{V_2} \\rangle$$\n",
    "7. Skew symmetric:\n",
    "   $$ \\langle {V_1},{V_2} \\rangle = \\overline{\\langle {V_2},{V_1} \\rangle} $$\n",
    "\n",
    "The definition of the internal product varies across different vector spaces.\n"
   ]
  },
  {
   "cell_type": "markdown",
   "id": "44b4bbab-d6c9-42db-9032-04a4031aed43",
   "metadata": {},
   "source": [
    "## Example 1: Internal Product in a Complex Vector Space of Column Vectors\n",
    "\n",
    "In a complex vector space of column vectors $\\mathbb{C}^n$, the internal product (often called the dot product in real vector spaces) is defined as follows for vectors $ \\mathbf{a} = [a_1, a_2, \\ldots, a_n]^T $ and $ \\mathbf{b} = [b_1, b_2, \\ldots, b_n]^T $:\n",
    "\n",
    "$$ \\langle V_1, V_2 \\rangle = V_1^\\dagger \\star V_2 = \\sum_{i=0}^{n-1} \\overline{V_1[i]} \\times V_2[i] $$\n",
    "\n",
    "where $ \\overline{V_1[i]} $ denotes the complex conjugate of $ V_1[i] $.\n",
    "\n",
    "### Example:\n",
    "\n",
    "Given $ \\mathbf{a} = [1+i, 2-i]^T $ and $ \\mathbf{b} = [2+i, 3+i]^T $, the internal product is:\n",
    "\n",
    "$$ \\langle \\mathbf{a}, \\mathbf{b} \\rangle = (1-i)(2+i) + (2+i)(3+i) = (3-i) + (5 +5i) = 8 + 4i $$\n",
    "\n",
    "### Example in Python\n"
   ]
  },
  {
   "cell_type": "code",
   "execution_count": 165,
   "id": "a9dd42cb-d9ad-42c6-bd2b-b9596413fc27",
   "metadata": {
    "scrolled": true
   },
   "outputs": [
    {
     "data": {
      "text/plain": [
       "np.complex128(8+4j)"
      ]
     },
     "execution_count": 165,
     "metadata": {},
     "output_type": "execute_result"
    }
   ],
   "source": [
    "\n",
    "import numpy as np\n",
    "\n",
    "# Define two complex column vectors\n",
    "vector_a = np.array([1+1j, 2-1j])\n",
    "vector_b = np.array([2+1j, 3+1j])\n",
    "\n",
    "# Compute the complex internal product\n",
    "complex_internal_product_vector = np.vdot(vector_a, vector_b)\n",
    "\n",
    "complex_internal_product_vector"
   ]
  },
  {
   "cell_type": "markdown",
   "id": "e5218298-a104-4ad0-8358-7830a7435850",
   "metadata": {},
   "source": [
    "## Example 2: Internal Product in a Complex Vector Space of Square Matrices\n",
    "\n",
    "For square complex matrices, the internal product is defined for matrices $A$ and $B$ as:\n",
    "\n",
    "$$ \\langle A, B \\rangle = \\text{Tr}(\\bar{A}^T B) $$\n",
    "\n",
    "where $ \\text{Tr} $ denotes the trace of a matrix (the sum of all diagonal elements) and $ \\bar{A}^T $ is the conjugate transpose of $ A $.\n",
    "\n",
    "### Example:\n",
    "\n",
    "Given\n",
    "\n",
    "$$ A = \\begin{bmatrix} 1+i & 2 \\\\ 3 & 4-i \\end{bmatrix}, \\quad B = \\begin{bmatrix} 5 & 6+i \\\\ 7-i & 8 \\end{bmatrix} $$\n",
    "\n",
    "the internal product is:\n",
    "\n",
    "$$ \\langle A, B \\rangle = \\text{Tr} \\left( \\begin{bmatrix} 1-i & 3 \\\\ 2 & 4+i \\end{bmatrix} \\begin{bmatrix} 5 & 6+i \\\\ 7-i & 8 \\end{bmatrix} \\right) = \\text{Tr} \\left( \\begin{bmatrix} 26-8j & 31-5j \\\\ 39 + 3j & 44 + 10j \\end{bmatrix} \\right) = 70 +2j $$\n",
    "\n",
    "Note: The exact value of the trace depends on the computation of the product and the sum of the diagonal elements.\n",
    "\n",
    "### The example in Python:\n"
   ]
  },
  {
   "cell_type": "code",
   "execution_count": 166,
   "id": "ae835d06-f4fb-4492-b85f-a76a13e27e8c",
   "metadata": {},
   "outputs": [
    {
     "name": "stdout",
     "output_type": "stream",
     "text": [
      "[[26. -8.j 31. -5.j]\n",
      " [39. +3.j 44.+10.j]]\n"
     ]
    },
    {
     "data": {
      "text/plain": [
       "np.complex128(70+2j)"
      ]
     },
     "execution_count": 166,
     "metadata": {},
     "output_type": "execute_result"
    }
   ],
   "source": [
    "import numpy as np\n",
    "\n",
    "# Define two square complex matrices\n",
    "matrix_A = np.array([[1+1j, 2], [3, 4-1j]])\n",
    "matrix_B = np.array([[5, 6+1j], [7-1j, 8]])\n",
    "\n",
    "# Compute the complex internal product for matrices\n",
    "print(np.dot(np.conjugate(matrix_A).T, matrix_B))\n",
    "complex_internal_product_matrix = np.trace(np.dot(np.conjugate(matrix_A).T, matrix_B))\n",
    "\n",
    "complex_internal_product_matrix"
   ]
  },
  {
   "cell_type": "markdown",
   "id": "aecccff0-283f-48e3-913d-5abbed6ab97d",
   "metadata": {},
   "source": [
    "\n",
    "## Example 3: Complex Internal Product for Square Complex Matrices\n",
    "\n",
    "\n",
    "### Python Example\n"
   ]
  },
  {
   "cell_type": "code",
   "execution_count": 167,
   "id": "dddeb5d2-9f70-4ca7-88b0-2a3e7eefe2bc",
   "metadata": {},
   "outputs": [
    {
     "data": {
      "text/plain": [
       "np.complex128(-68-488j)"
      ]
     },
     "execution_count": 167,
     "metadata": {},
     "output_type": "execute_result"
    }
   ],
   "source": [
    "\n",
    "# Define two square complex matrices\n",
    "matrix_A = np.array([[1+2j, 3+4j], [5+6j, 7+8j]])\n",
    "matrix_B = np.array([[9-10j, 11-12j], [13-14j, 15-16j]])\n",
    "\n",
    "# Compute the complex internal product for matrices\n",
    "complex_internal_product_matrix = np.trace(np.dot(np.conjugate(matrix_A).T, matrix_B))\n",
    "\n",
    "complex_internal_product_matrix\n"
   ]
  },
  {
   "cell_type": "code",
   "execution_count": 168,
   "id": "72119954-9647-4f66-93e9-c014c05bb48c",
   "metadata": {},
   "outputs": [
    {
     "data": {
      "text/plain": [
       "(True,\n",
       " array([[ 0.70710678+0.j        ,  0.70710678+0.j        ],\n",
       "        [ 0.        +0.70710678j, -0.        -0.70710678j]]))"
      ]
     },
     "execution_count": 168,
     "metadata": {},
     "output_type": "execute_result"
    }
   ],
   "source": [
    "\n",
    "# Define a complex Unitary matrix\n",
    "unitary_matrix = np.array([[1/np.sqrt(2), 1/np.sqrt(2)], [1/np.sqrt(2)*1j, -1/np.sqrt(2)*1j]])\n",
    "\n",
    "# Check if the matrix is Unitary\n",
    "# np.eye(2) returns the identity of size 2x2\n",
    "is_unitary = np.allclose(np.dot(unitary_matrix, unitary_matrix.conj().T), np.eye(2))\n",
    "\n",
    "is_unitary, unitary_matrix\n"
   ]
  },
  {
   "cell_type": "markdown",
   "id": "85750bcf-34ab-49ab-9163-509b29e719c9",
   "metadata": {},
   "source": [
    "# Eigenvalues and Eigenvectors\n",
    "\n",
    "Below are examples that illustrate how to compute eigenvalues, eigenvectors, and how to plot matrix transformations in a Jupyter Notebook using Python. These examples utilize the numpy and matplotlib libraries, so make sure these are installed in your environment."
   ]
  },
  {
   "cell_type": "code",
   "execution_count": 169,
   "id": "f7f68e25-70d2-4ac8-a1fc-f97a1921bb2c",
   "metadata": {},
   "outputs": [
    {
     "name": "stdout",
     "output_type": "stream",
     "text": [
      "Eigenvalues: [5. 2.]\n",
      "Eigenvectors:\n",
      " [[ 0.89442719 -0.70710678]\n",
      " [ 0.4472136   0.70710678]]\n"
     ]
    }
   ],
   "source": [
    "import numpy as np\n",
    "\n",
    "# Define a square matrix\n",
    "A = np.array([[4, 2], [1, 3]])\n",
    "\n",
    "# Compute eigenvalues and eigenvectors\n",
    "eigenvalues, eigenvectors = np.linalg.eig(A)\n",
    "\n",
    "print(\"Eigenvalues:\", eigenvalues)\n",
    "print(\"Eigenvectors:\\n\", eigenvectors)"
   ]
  },
  {
   "cell_type": "markdown",
   "id": "1cd1e64b-b454-4a06-bb27-6ecafbd1470c",
   "metadata": {},
   "source": [
    "This code snippet computes the eigenvalues and eigenvectors of the matrix A and prints them. The np.linalg.eig function returns a tuple consisting of an array of eigenvalues and a 2D array of the corresponding eigenvectors."
   ]
  },
  {
   "cell_type": "markdown",
   "id": "ff0bcbf9-9e2f-4f04-af8e-2a1132cd5108",
   "metadata": {},
   "source": []
  },
  {
   "cell_type": "code",
   "execution_count": 170,
   "id": "d5c50dc3-0113-4104-930a-aea1894db760",
   "metadata": {},
   "outputs": [
    {
     "data": {
      "image/png": "[encoded data removed]",
      "text/plain": [
       "<Figure size 600x600 with 1 Axes>"
      ]
     },
     "metadata": {},
     "output_type": "display_data"
    }
   ],
   "source": [
    "import numpy as np\n",
    "import matplotlib.pyplot as plt\n",
    "\n",
    "# Define a transformation matrix\n",
    "T = np.array([[2, 1], [1, 3]])\n",
    "\n",
    "# Generate a set of vectors (unit circle)\n",
    "theta = np.linspace(0, 2*np.pi, 100)\n",
    "vectors = np.array([np.cos(theta), np.sin(theta)])\n",
    "\n",
    "# Apply the transformation\n",
    "transformed_vectors = T.dot(vectors)\n",
    "\n",
    "# Plotting\n",
    "plt.figure(figsize=(6,6))\n",
    "plt.plot(vectors[0], vectors[1], 'b', label='Original Vectors')  # Original vectors\n",
    "plt.plot(transformed_vectors[0], transformed_vectors[1], 'r', label='Transformed Vectors')  # Transformed vectors\n",
    "plt.axis('equal')\n",
    "plt.legend()\n",
    "plt.title('Matrix Transformation')\n",
    "plt.xlabel('X')\n",
    "plt.ylabel('Y')\n",
    "plt.grid(True)\n",
    "plt.show()\n"
   ]
  },
  {
   "cell_type": "markdown",
   "id": "ffa82608-ea8c-4bc7-b357-a8552a649f0c",
   "metadata": {},
   "source": [
    "# Exercises on Complex Vector and Matrix Operations\n",
    "\n",
    "This set of exercises is designed to test your understanding of various concepts related to complex vector and matrix operations, which are foundational in quantum computing. Each exercise presents a concrete case for you to apply what you've learned about complex internal products, Hermitian matrices, Unitary matrices, and tensor products.\n",
    "\n",
    "NOTE: VERIFY YOUR COMPUTATIONS IN PAPER AND IN THE COMPUTER.\n",
    "\n",
    "## Exercise 1: Complex Internal Product for Column Vectors\n",
    "\n",
    "Given two complex column vectors:\n",
    "\n",
    "$$ \\mathbf{a} = \\begin{bmatrix} 1 + 2i \\\\ 3 - 4i \\end{bmatrix}, \\quad \\mathbf{b} = \\begin{bmatrix} 2 - i \\\\ -1 + 3i \\end{bmatrix} $$\n",
    "\n",
    "Calculate the complex internal product $ \\langle \\mathbf{a}, \\mathbf{b} \\rangle $.\n",
    "\n",
    "\n",
    "\n",
    "Given two square complex matrices:\n",
    "\n",
    "$$ A = \\begin{bmatrix} 1+i & 2-2i \\\\ 3+3i & 4-i \\end{bmatrix}, \\quad B = \\begin{bmatrix} 1-2i & 3+i \\\\ 4-4i & 2+2i \\end{bmatrix} $$\n",
    "\n",
    "Calculate the complex internal product $ \\langle A, B \\rangle $.\n",
    "\n"
   ]
  },
  {
   "cell_type": "markdown",
   "id": "c3dd8912-c347-46da-89d8-ef5146a4d847",
   "metadata": {},
   "source": [
    "# Exercises on eigenvalues and eigenvectors\n",
    "\n",
    "## Exercise 1: Compute Eigenvalues and Eigenvectors of a Real Matrix\n",
    "\n",
    "Compute the eigenvalues and eigenvectors of the following real matrix:\n",
    "\n",
    "$$\n",
    "A = \\begin{pmatrix}\n",
    "4 & 1 \\\\\n",
    "2 & 3\n",
    "\\end{pmatrix}\n",
    "$$\n",
    "\n",
    "**Hint:** Use `numpy.linalg.eig`.\n",
    "\n",
    "## Exercise 2: Eigenvalues and Eigenvectors of a Complex Matrix\n",
    "\n",
    "Compute the eigenvalues and eigenvectors of the following complex matrix:\n",
    "\n",
    "$$\n",
    "B = \\begin{pmatrix}\n",
    "1 + 2i & 2 + 3i \\\\\n",
    "4 + 5i & 6 + 7i\n",
    "\\end{pmatrix}\n",
    "$$\n",
    "\n",
    "where \\(i\\) is the imaginary unit.\n",
    "\n",
    "**Hint:** Ensure your matrix is defined with complex numbers in Python using `dtype=complex`.\n",
    "\n",
    "## Exercise 3: Symmetric Matrix Eigendecomposition\n",
    "\n",
    "Compute the eigenvalues and eigenvectors of the following symmetric matrix:\n",
    "\n",
    "$$\n",
    "C = \\begin{pmatrix}\n",
    "5 & 4 \\\\\n",
    "4 & 5\n",
    "\\end{pmatrix}\n",
    "$$\n",
    "\n",
    "Discuss the properties of the eigenvectors and eigenvalues for symmetric matrices based on your results.\n",
    "\n",
    "## Exercise 4: Plotting Matrix Transformations\n",
    "\n",
    "Consider the matrix:\n",
    "\n",
    "$$\n",
    "T = \\begin{pmatrix}\n",
    "2 & 1 \\\\\n",
    "1 & 3\n",
    "\\end{pmatrix}\n",
    "$$\n",
    "\n",
    "1. Plot the unit circle.\n",
    "2. Apply the matrix \\(T\\) to transform the unit circle.\n",
    "3. Plot the transformed figure.\n",
    "4. Show graphically that the eigenvectors are only multiplied by an escalar when transformed. (Plot the eigen vectors and the transformed ones) \n",
    "\n",
    "Explain how the matrix \\(T\\) transforms the unit circle based on the resulting plot.\n",
    "\n",
    "**Hint:** Use `numpy` for matrix operations and `matplotlib` for plotting.\n",
    "\n",
    "## Exercise 5: Diagonal Matrix Eigendecomposition\n",
    "\n",
    "Compute the eigenvalues and eigenvectors of the following diagonal matrix:\n",
    "\n",
    "$$\n",
    "D = \\begin{pmatrix}\n",
    "7 & 0 \\\\\n",
    "0 & -3\n",
    "\\end{pmatrix}\n",
    "$$\n",
    "\n",
    "Discuss the significance of the eigenvalues and eigenvectors for diagonal matrices.\n"
   ]
  },
  {
   "cell_type": "code",
   "execution_count": 171,
   "id": "973faa98",
   "metadata": {},
   "outputs": [
    {
     "name": "stdout",
     "output_type": "stream",
     "text": [
      "El resultado del producto interno de los vectores\n",
      " a =  1.0 + 2.0j\n",
      "      3.0 - 4.0j\n",
      " \n",
      " b =  2.0 - 1.0j\n",
      "      -1.0 + 3.0j\n",
      "es igual a -15.0 + 0.0j\n"
     ]
    }
   ],
   "source": [
    "## Exercise 1: Complex Internal Product for Column Vectors\n",
    "\n",
    "import numpy as np\n",
    "\n",
    "def format_printed(a, b, result):\n",
    "    print(\"El resultado del producto interno de los vectores\")\n",
    "    m = 0\n",
    "    for i in a:\n",
    "        if (m > 0):\n",
    "            m += 1\n",
    "            print (\"     \", f\"{i.real:.1f}{' + ' if i.imag >= 0 else ' - '}{abs(i.imag):.1f}j\" )\n",
    "        else:\n",
    "            m += 1\n",
    "            print(\" a = \", f\"{i.real:.1f}{' + ' if i.imag >= 0 else ' - '}{abs(i.imag):.1f}j\")\n",
    "    m = 0\n",
    "    print(\" \")\n",
    "    for i in b:\n",
    "        if (m > 0):\n",
    "            m += 1\n",
    "            print (\"     \", f\"{i.real:.1f}{' + ' if i.imag >= 0 else ' - '}{abs(i.imag):.1f}j\" )\n",
    "        else:\n",
    "            m += 1\n",
    "            print(\" b = \", f\"{i.real:.1f}{' + ' if i.imag >= 0 else ' - '}{abs(i.imag):.1f}j\")\n",
    "    print(\"es igual a\",f\"{result.real:.1f}{' + ' if result.imag >= 0 else ' - '}{abs(result.imag):.1f}j\")\n",
    "\n",
    "def internalProduct(a,b):\n",
    "    a = np.array(a)\n",
    "    b = np.array(b)\n",
    "    # <V,V> = (V^t) * V\n",
    "    result =  np.vdot(a, b)\n",
    "    format_printed(a, b, result)\n",
    "\n",
    "a = [1+2j, 3-4j]\n",
    "b = [2-1j, -1+3j]\n",
    "internalProduct(a,b)"
   ]
  },
  {
   "cell_type": "code",
   "execution_count": 172,
   "id": "1f13c350",
   "metadata": {},
   "outputs": [
    {
     "name": "stdout",
     "output_type": "stream",
     "text": [
      "El resultado del producto interno de las matrices\n",
      " a =  1.0+1.0j 2.0-2.0j\n",
      "      3.0+3.0j 4.0-1.0j\n",
      " \n",
      " b =  1.0-2.0j 3.0+1.0j\n",
      "      4.0-4.0j 2.0+2.0j\n",
      "es igual a 9.0-9.0j\n"
     ]
    }
   ],
   "source": [
    "## Exercise 2: Complex Internal Product for Square Complex Matrices\n",
    "\n",
    "import numpy as np\n",
    "\n",
    "def format_printed(a, b, result):\n",
    "    print(\"El resultado del producto interno de las matrices\")\n",
    "    m = 0\n",
    "    for i in a:\n",
    "        if (m > 0):\n",
    "            m += 1\n",
    "            print (\"     \", ' '.join(f\"{x:.1f}\" for x in i) )\n",
    "        else:\n",
    "            m += 1\n",
    "            print(\" a = \", ' '.join(f\"{x:.1f}\" for x in i))\n",
    "    m = 0\n",
    "    print(\" \")\n",
    "    for i in b:\n",
    "        if (m > 0):\n",
    "            m += 1\n",
    "            print (\"     \", ' '.join(f\"{x:.1f}\" for x in i))\n",
    "        else:\n",
    "            m += 1\n",
    "            print(\" b = \",' '.join(f\"{x:.1f}\" for x in i))\n",
    "    print(\"es igual a\",f\"{result.real:.1f}{'+' if result.imag >= 0 else '-'}{abs(result.imag):.1f}j\")\n",
    "\n",
    "def internal_Product_Matrix(a,b):\n",
    "    a = np.array(a)\n",
    "    b = np.array(b)\n",
    "    result = np.trace(np.dot(np.conjugate(a).T, b))\n",
    "    format_printed(a, b, result)\n",
    "\n",
    "a = [[1+1j, 2-2j], [3+3j, 4-1j]]\n",
    "b = [[1-2j, 3+1j], [4-4j, 2+2j]]\n",
    "\n",
    "internal_Product_Matrix(a,b)"
   ]
  },
  {
   "cell_type": "code",
   "execution_count": 176,
   "id": "7e120915-bd15-45e6-92e0-54756ae01bf6",
   "metadata": {},
   "outputs": [
    {
     "name": "stdout",
     "output_type": "stream",
     "text": [
      "Los valosres propios y vectores propios de la matriz \n",
      " a =  4 1\n",
      "      2 3\n",
      "valores propios : \n",
      "\n",
      "ValorPropio1:  5.0\n",
      "ValorPropio2:  2.0\n",
      "\n",
      "vectores propios:\n",
      "VectorPropio1:\n",
      "    0.7071067811865475\n",
      "    0.7071067811865475\n",
      "VectorPropio2:\n",
      "    -0.4472135954999579\n",
      "    0.8944271909999159\n"
     ]
    }
   ],
   "source": [
    "import numpy as np\n",
    "#Exercise 1: Compute Eigenvalues and Eigenvectors of a Real Matrix\n",
    "\n",
    "def format_printed(eigenvalues, eigenvectors,a):\n",
    "    print(\"Los valosres propios y vectores propios de la matriz \")\n",
    "    m = 0\n",
    "    for i in a:\n",
    "        if (m > 0):\n",
    "            m += 1\n",
    "            print (\"     \", ' '.join(f\"{x}\" for x in i) )\n",
    "        else:\n",
    "            m += 1\n",
    "            print(\" a = \", ' '.join(f\"{x}\" for x in i))\n",
    "    m = 0\n",
    "    print(\"valores propios : \")\n",
    "    print(\"\")\n",
    "    for i in range(len(eigenvalues)):\n",
    "        print(f\"ValorPropio{i+1}: \",(eigenvalues[i]))\n",
    "    print() \n",
    "    print(\"vectores propios:\")\n",
    "    for i, col in enumerate(eigenvectors.T):\n",
    "        print(f\"VectorPropio{i+1}:\")\n",
    "        for value in col:\n",
    "            print(\"   \",(value))\n",
    "\n",
    "def eigenvalues_and_Eigenvectors(a):\n",
    "    a= np.array(a)\n",
    "    eigenvalues, eigenvectors = np.linalg.eig(a)\n",
    "    format_printed(eigenvalues, eigenvectors,a)\n",
    "\n",
    "    \n",
    "\n",
    "a = [[4,1],[2,3]]\n",
    "eigenvalues_and_Eigenvectors(a)\n",
    "\n"
   ]
  },
  {
   "cell_type": "code",
   "execution_count": 40,
   "id": "8ab7eaff",
   "metadata": {},
   "outputs": [
    {
     "name": "stdout",
     "output_type": "stream",
     "text": [
      "Los valosres propios y vectores propios de la matriz \n",
      " a =  1.0 + 2.0j 2.0 + 3.0j\n",
      "      4.0 + 5.0j 6.0 + 7.0j\n",
      "\n",
      "valores propios : \n",
      "\n",
      "ValorPropio1: -0.25519525645230967 - 0.09363596882490643j\n",
      "ValorPropio2: 7.25519525645231 + 9.093635968824906j\n",
      "\n",
      "vectores propios:\n",
      "\n",
      "VectorPropio1:\n",
      "    0.8280678965318251\n",
      "    -0.559983999224539 - 0.026860367567296317j\n",
      "VectorPropio2:\n",
      "    0.3529975861483322 + 0.047826920148628604j\n",
      "    0.934401032684868\n"
     ]
    }
   ],
   "source": [
    "# Exercise 2: Eigenvalues and Eigenvectors of a Complex Matrix\n",
    "import numpy as np\n",
    "\n",
    "\n",
    "def format_complex(c):\n",
    "    if (c.imag == 0):\n",
    "        return f\"{c.real}\"\n",
    "    elif(c.real == 0):\n",
    "        return f\"{c.imag}j\"\n",
    "    return f\"{c.real}{' + ' if c.imag >= 0 else ' - '}{abs(c.imag)}j\"\n",
    "\n",
    "def format_printed(eigenvalues, eigenvectors,a):\n",
    "    print(\"Los valosres propios y vectores propios de la matriz \")\n",
    "    m = 0\n",
    "    for i in a:\n",
    "        if (m > 0):\n",
    "            m += 1\n",
    "            print (\"     \", ' '.join(format_complex(x) for x in i) )\n",
    "        else:\n",
    "            m += 1\n",
    "            print(\" a = \", ' '.join(format_complex(x) for x in i))\n",
    "    m = 1\n",
    "    print() \n",
    "    print(\"valores propios : \")\n",
    "    print(\"\")\n",
    "    for i in range(len(eigenvalues)):\n",
    "        print(f\"ValorPropio{i+1}:\",format_complex(eigenvalues[i]))\n",
    "    print() \n",
    "\n",
    "    print(\"vectores propios:\")\n",
    "    print() \n",
    "\n",
    "    for i, col in enumerate(eigenvectors.T):\n",
    "        print(f\"VectorPropio{i+1}:\")\n",
    "        for value in col:\n",
    "            print(\"   \",format_complex(value))\n",
    "        \n",
    "def eigenvalues_and_Eigenvectors(a):\n",
    "    a= np.array(a,dtype=complex)\n",
    "    eigenvalues, eigenvectors = np.linalg.eig(a)\n",
    "    format_printed(eigenvalues, eigenvectors,a)\n",
    "\n",
    "    \n",
    "\n",
    "a = [[1+2j,2+3j],[4+5j,6+7j]]\n",
    "eigenvalues_and_Eigenvectors(a)"
   ]
  },
  {
   "cell_type": "code",
   "execution_count": 175,
   "id": "7773845b",
   "metadata": {},
   "outputs": [
    {
     "name": "stdout",
     "output_type": "stream",
     "text": [
      "Los valosres propios y vectores propios de la matriz \n",
      " a =  5 4\n",
      "      4 5\n",
      "ValorPropio1: 9.0\n",
      "ValorPropio2: 1.0\n",
      "\n",
      "vectores propios:\n",
      "VectorPropio1:\n",
      "    0.7071067811865475\n",
      "    0.7071067811865475\n",
      "VectorPropio2:\n",
      "    -0.7071067811865475\n",
      "    0.7071067811865475\n"
     ]
    }
   ],
   "source": [
    "import numpy as np\n",
    "#Exercise 1: Compute Eigenvalues and Eigenvectors of a Real Matrix\n",
    "\n",
    "def format_printed(eigenvalues, eigenvectors,a):\n",
    "    print(\"Los valosres propios y vectores propios de la matriz \")\n",
    "    m = 0\n",
    "    for i in a:\n",
    "        if (m > 0):\n",
    "            m += 1\n",
    "            print (\"     \", ' '.join(f\"{x}\" for x in i) )\n",
    "        else:\n",
    "            m += 1\n",
    "            print(\" a = \", ' '.join(f\"{x}\" for x in i))\n",
    "    for i in range(len(eigenvalues)):\n",
    "        print(f\"ValorPropio{i+1}:\",format_complex(eigenvalues[i]))\n",
    "    print() \n",
    "    print(\"vectores propios:\")\n",
    "    for i, col in enumerate(eigenvectors.T):\n",
    "        print(f\"VectorPropio{i+1}:\")\n",
    "        for value in col:\n",
    "            print(\"   \",(value))\n",
    "\n",
    "def eigenvalues_and_Eigenvectors(a):\n",
    "    a= np.array(a)\n",
    "    eigenvalues, eigenvectors = np.linalg.eig(a)\n",
    "    format_printed(eigenvalues, eigenvectors,a)\n",
    "\n",
    "a = [[5,4],[4,5]]\n",
    "eigenvalues_and_Eigenvectors(a)\n",
    "\n"
   ]
  },
  {
   "cell_type": "code",
   "execution_count": 37,
   "id": "1e85bdea",
   "metadata": {},
   "outputs": [
    {
     "data": {
      "image/png": "[encoded data removed]",
      "text/plain": [
       "<Figure size 2000x2000 with 2 Axes>"
      ]
     },
     "metadata": {},
     "output_type": "display_data"
    }
   ],
   "source": [
    "import numpy as np\n",
    "import matplotlib.pyplot as plt\n",
    "\n",
    "# Define a transformation matrix\n",
    "T = np.array([[2, 1], [1, 3]])\n",
    "\n",
    "def generateGraph(T,vectors, apply_matrix,eigenvalues, eigenvectors,titleC,titleM,colorC,colorM):\n",
    "    fig, (ax1, ax2) = plt.subplots(1, 2, figsize=(20, 20)) \n",
    "    # círculo unitario\n",
    "    ax1.plot(vectors[0], vectors[1], label=titleC, color = colorC)\n",
    "    ax1.set_xlim(-4, 4)\n",
    "    ax1.set_ylim(-4, 4)\n",
    "    ax1.set_aspect('equal') \n",
    "    ax1.set_xlabel('x')\n",
    "    ax1.set_ylabel('y')\n",
    "    ax1.set_title(titleC)\n",
    "    ax1.axhline(0, color='black',linewidth=0.5)\n",
    "    ax1.axvline(0, color='black',linewidth=0.5)\n",
    "    #ax1.grid(True, which='both')\n",
    "\n",
    "    #Círculo unitario transformado\n",
    "    ax2.plot(apply_matrix[0], apply_matrix[1], label=titleM, color = colorM)\n",
    "\n",
    "    #vectores propios\n",
    "    draw_Transformation_Vector(T, eigenvalues,eigenvectors,ax2)\n",
    "    \n",
    "    ax2.set_aspect('equal') \n",
    "    ax2.set_xlabel('x')\n",
    "    ax2.set_ylabel('y')\n",
    "    ax2.set_xlim(-4, 4)\n",
    "    ax2.set_ylim(-4, 4)\n",
    "    ax2.set_title(titleM)\n",
    "    ax2.axhline(0, color='black',linewidth=0.5)\n",
    "    ax2.axvline(0, color='black',linewidth=0.5)\n",
    "    #ax2.grid(True, which='both')\n",
    "    plt.tight_layout() \n",
    "    plt.show()\n",
    "\n",
    "def draw_Transformation_Vector(T, eigenvalues,eigenvectors,ax2):\n",
    "    for j in range(len(eigenvalues)):\n",
    "        v = []\n",
    "        for i in range(len(eigenvectors[0])):\n",
    "            v.append(eigenvectors[i][j])\n",
    "        vT = T.dot(v)\n",
    "        ax2.quiver(0, 0, vT[0], vT[1], angles='xy', scale_units='xy', scale=1, color='red', label='Vectores propios transformados' if i == 0 else None)\n",
    "        ax2.quiver(0, 0, v[0], v[1], angles='xy', scale_units='xy', scale=1, color='blue', label='Vectores propios' if i == 0 else None)\n",
    "\n",
    "def draw_Transformation(T,vectors):\n",
    "    apply_matrix = T.dot(vectors)\n",
    "    return apply_matrix\n",
    "\n",
    "\n",
    "def grap(T):\n",
    "    theta = np.linspace(0, 2 * np.pi, 360) \n",
    "    vectors = np.array([np.cos(theta), np.sin(theta)])\n",
    "    apply_matrix = draw_Transformation(T,vectors)\n",
    "    eigenvalues, eigenvectors = np.linalg.eig(T)\n",
    "    generateGraph(T,vectors, apply_matrix, eigenvalues,eigenvectors,'Círculo unitario','Transformación aplicando una matriz ','blue','red')\n",
    "\n",
    "\n",
    "\n",
    "grap(T)\n",
    "\n"
   ]
  },
  {
   "cell_type": "code",
   "execution_count": 39,
   "id": "7a925a7c",
   "metadata": {},
   "outputs": [
    {
     "name": "stdout",
     "output_type": "stream",
     "text": [
      "Los valosres propios y vectores propios de la matriz \n",
      " a =  7 0\n",
      "      0 3\n",
      "ValorPropio1: 7.0\n",
      "ValorPropio2: 3.0\n",
      "\n",
      "vectores propios:\n",
      "VectorPropio1:\n",
      "    1.0\n",
      "    0.0\n",
      "VectorPropio2:\n",
      "    0.0\n",
      "    1.0\n"
     ]
    }
   ],
   "source": [
    "## Exercise 5: Diagonal Matrix Eigendecomposition\n",
    "import numpy as np\n",
    "\n",
    "def format_printed(eigenvalues, eigenvectors,a):\n",
    "    print(\"Los valosres propios y vectores propios de la matriz \")\n",
    "    m = 0\n",
    "    for i in a:\n",
    "        if (m > 0):\n",
    "            m += 1\n",
    "            print (\"     \", ' '.join(f\"{x}\" for x in i) )\n",
    "        else:\n",
    "            m += 1\n",
    "            print(\" a = \", ' '.join(f\"{x}\" for x in i))\n",
    "    for i in range(len(eigenvalues)):\n",
    "        print(f\"ValorPropio{i+1}:\",eigenvalues[i])\n",
    "    print() \n",
    "    print(\"vectores propios:\")\n",
    "    for i, col in enumerate(eigenvectors.T):\n",
    "        print(f\"VectorPropio{i+1}:\")\n",
    "        for value in col:\n",
    "            print(\"   \",(value))\n",
    "\n",
    "def eigenvalues_and_Eigenvectors(a):\n",
    "    a= np.array(a)\n",
    "    eigenvalues, eigenvectors = np.linalg.eig(a)\n",
    "    format_printed(eigenvalues, eigenvectors,a)\n",
    "\n",
    "a = [[7,0],[0,3]]\n",
    "eigenvalues_and_Eigenvectors(a)"
   ]
  }
 ],
 "metadata": {
  "kernelspec": {
   "display_name": "Python 3 (ipykernel)",
   "language": "python",
   "name": "python3"
  },
  "language_info": {
   "codemirror_mode": {
    "name": "ipython",
    "version": 3
   },
   "file_extension": ".py",
   "mimetype": "text/x-python",
   "name": "python",
   "nbconvert_exporter": "python",
   "pygments_lexer": "ipython3",
   "version": "3.12.5"
  }
 },
 "nbformat": 4,
 "nbformat_minor": 5
}
