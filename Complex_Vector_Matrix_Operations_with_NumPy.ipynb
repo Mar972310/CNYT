{
 "cells": [
  {
   "cell_type": "markdown",
   "id": "a07bd584",
   "metadata": {},
   "source": [
    "# Theory of Complex Vector Spaces\n",
    "Complex vector spaces extend the idea of real vector spaces by allowing vectors to have complex numbers as their components. In these spaces, vectors can be added together and multiplied by complex scalars to produce new vectors. Key operations in complex vector spaces include vector addition, scalar multiplication, vector negation, and complex conjugation."
   ]
  },
  {
   "cell_type": "markdown",
   "id": "f43fc972-23ab-4d81-aa26-c51325dac8f3",
   "metadata": {},
   "source": [
    "# Creating complex column vectors"
   ]
  },
  {
   "cell_type": "code",
   "execution_count": 35,
   "id": "029f08ba-1cdc-4928-9631-f62c51ab7aa5",
   "metadata": {},
   "outputs": [
    {
     "name": "stdout",
     "output_type": "stream",
     "text": [
      "Matrix:\n",
      " [[2 3]\n",
      " [1 4]]\n",
      "\n",
      "Vector:\n",
      " [5 6]\n",
      "\n",
      "Result of multiplication:\n",
      " [28 29]\n"
     ]
    }
   ],
   "source": [
    "import numpy as np\n",
    "\n",
    "# Define a 2x2 square matrix\n",
    "matrix = np.array([[2, 3],\n",
    "                   [1, 4]])\n",
    "\n",
    "# Define a vector of size 2\n",
    "vector = np.array([5, 6])\n",
    "\n",
    "# Multiply the matrix by the vector\n",
    "result = np.dot(matrix, vector)\n",
    "\n",
    "# Display the result\n",
    "print(\"Matrix:\\n\", matrix)\n",
    "print(\"\\nVector:\\n\", vector)\n",
    "print(\"\\nResult of multiplication:\\n\", result)\n"
   ]
  },
  {
   "cell_type": "markdown",
   "id": "975c2284",
   "metadata": {},
   "source": [
    "## Manipulating Complex Column Vectors using NumPy\n",
    "Here we demonstrate how to manipulate complex column vectors using NumPy, including operations like sum, negation, multiplication by a scalar, transpose, adjunct, and conjugate."
   ]
  },
  {
   "cell_type": "code",
   "execution_count": 36,
   "id": "e8058abe",
   "metadata": {},
   "outputs": [
    {
     "data": {
      "text/plain": [
       "(array([[3.+2.j],\n",
       "        [8.-2.j],\n",
       "        [5.-3.j]]),\n",
       " array([[-2.-3.j],\n",
       "        [-5.+4.j],\n",
       "        [-1.-1.j]]),\n",
       " array([[ 1.+8.j],\n",
       "        [14.-3.j],\n",
       "        [ 1.+3.j]]),\n",
       " array([[2.+3.j, 5.-4.j, 1.+1.j]]),\n",
       " array([[2.-3.j, 5.+4.j, 1.-1.j]]),\n",
       " array([[2.-3.j],\n",
       "        [5.+4.j],\n",
       "        [1.-1.j]]))"
      ]
     },
     "execution_count": 36,
     "metadata": {},
     "output_type": "execute_result"
    }
   ],
   "source": [
    "\n",
    "import numpy as np\n",
    "\n",
    "# Define two complex column vectors\n",
    "v1 = np.array([[2+3j], [5-4j], [1+1j]])\n",
    "v2 = np.array([[1-1j], [3+2j], [4-4j]])\n",
    "\n",
    "# Sum\n",
    "sum_v = v1 + v2\n",
    "\n",
    "# Negation\n",
    "neg_v1 = -v1\n",
    "\n",
    "# Multiplication by a scalar\n",
    "scalar = 2 + 1j\n",
    "mult_v1 = v1 * scalar\n",
    "\n",
    "# Transpose\n",
    "transpose_v1 = v1.T\n",
    "\n",
    "# Adjunct (Conjugate transpose)\n",
    "adjunct_v1 = v1.T.conj()\n",
    "\n",
    "# Conjugate\n",
    "conjugate_v1 = np.conjugate(v1)\n",
    "\n",
    "(sum_v, neg_v1, mult_v1, transpose_v1, adjunct_v1, conjugate_v1)\n"
   ]
  },
  {
   "cell_type": "markdown",
   "id": "995ae5fc",
   "metadata": {},
   "source": [
    "# Theory of Vector Spaces using Matrices\n",
    "In the context of matrices, vector spaces can be defined where each vector is a matrix of a particular size. Operations on these matrix-vector spaces include matrix addition, scalar multiplication, matrix negation, transpose, adjunct, and conjugate. In this section, we focus on square matrices of size 3x3."
   ]
  },
  {
   "cell_type": "markdown",
   "id": "9385c1f0",
   "metadata": {},
   "source": [
    "## Manipulating Square Matrices using NumPy\n",
    "Examples of how to manipulate 3x3 square matrices using NumPy, showing operations such as sum, negation, multiplication by a scalar, conjugate, transpose, and adjunct."
   ]
  },
  {
   "cell_type": "code",
   "execution_count": 37,
   "id": "b81ecc57",
   "metadata": {},
   "outputs": [
    {
     "data": {
      "text/plain": [
       "(array([[3.+3.j, 6.+0.j, 3.-3.j],\n",
       "        [1.+1.j, 2.+5.j, 6.-2.j],\n",
       "        [7.+3.j, 8.-2.j, 5.+3.j]]),\n",
       " array([[-2.-3.j, -4.+1.j, -0.-0.j],\n",
       "        [-1.-1.j, -3.-3.j, -5.-0.j],\n",
       "        [-4.-0.j, -6.+2.j, -1.+1.j]]),\n",
       " array([[-0.5+2.5j,  2.5+1.5j,  0. +0.j ],\n",
       "        [ 0. +1.j ,  0. +3.j ,  2.5+2.5j],\n",
       "        [ 2. +2.j ,  4. +2.j ,  1. +0.j ]]),\n",
       " array([[2.-3.j, 4.+1.j, 0.-0.j],\n",
       "        [1.-1.j, 3.-3.j, 5.-0.j],\n",
       "        [4.-0.j, 6.+2.j, 1.+1.j]]),\n",
       " array([[2.+3.j, 1.+1.j, 4.+0.j],\n",
       "        [4.-1.j, 3.+3.j, 6.-2.j],\n",
       "        [0.+0.j, 5.+0.j, 1.-1.j]]),\n",
       " array([[2.-3.j, 1.-1.j, 4.-0.j],\n",
       "        [4.+1.j, 3.-3.j, 6.+2.j],\n",
       "        [0.-0.j, 5.-0.j, 1.+1.j]]))"
      ]
     },
     "execution_count": 37,
     "metadata": {},
     "output_type": "execute_result"
    }
   ],
   "source": [
    "\n",
    "# Define two 3x3 complex matrices\n",
    "m1 = np.array([[2+3j, 4-1j, 0], \n",
    "               [1+1j, 3+3j, 5], \n",
    "               [4, 6-2j, 1-1j]])\n",
    "m2 = np.array([[1, 2+1j, 3-3j], \n",
    "               [0, -1+2j, 1-2j], \n",
    "               [3+3j, 2, 4+4j]])\n",
    "\n",
    "# Sum\n",
    "sum_m = m1 + m2\n",
    "\n",
    "# Negation\n",
    "neg_m1 = -m1\n",
    "\n",
    "# Multiplication by a scalar\n",
    "scalar = 0.5 + 0.5j\n",
    "mult_m1 = m1 * scalar\n",
    "\n",
    "# Conjugate\n",
    "conjugate_m1 = np.conjugate(m1)\n",
    "\n",
    "# Transpose\n",
    "transpose_m1 = m1.T\n",
    "\n",
    "# Adjunct (Conjugate transpose)\n",
    "adjunct_m1 = m1.T.conj()\n",
    "\n",
    "(sum_m, neg_m1, mult_m1, conjugate_m1, transpose_m1, adjunct_m1)\n"
   ]
  },
  {
   "cell_type": "markdown",
   "id": "ed909545-8a5c-4cca-85f7-48688b597598",
   "metadata": {},
   "source": [
    "## Checking the Dimension of a Matrix\n",
    "We can check the dimension of a matrix using the `.shape` attribute."
   ]
  },
  {
   "cell_type": "code",
   "execution_count": 38,
   "id": "0930dc10-af6d-427f-bbcb-75bfaf051db5",
   "metadata": {},
   "outputs": [
    {
     "data": {
      "text/plain": [
       "(3, 3)"
      ]
     },
     "execution_count": 38,
     "metadata": {},
     "output_type": "execute_result"
    }
   ],
   "source": [
    "# Checking the dimension of matrix1\n",
    "m1.shape"
   ]
  },
  {
   "cell_type": "markdown",
   "id": "b3fe896b",
   "metadata": {},
   "source": [
    "## Action of a Matrix on a Vector\n",
    "Finally, examples of how to use Python to multiply a 3x3 square matrix by a 3x1 column vector."
   ]
  },
  {
   "cell_type": "code",
   "execution_count": 39,
   "id": "e514d047",
   "metadata": {},
   "outputs": [
    {
     "data": {
      "text/plain": [
       "array([[11. -9.j],\n",
       "       [31.+13.j],\n",
       "       [32.-22.j]])"
      ]
     },
     "execution_count": 39,
     "metadata": {},
     "output_type": "execute_result"
    }
   ],
   "source": [
    "\n",
    "# Multiplying a 3x3 matrix by a 3x1 vector\n",
    "result = np.dot(m1, v1)\n",
    "result\n"
   ]
  },
  {
   "cell_type": "markdown",
   "id": "5adf9d8a-af43-4074-ab1a-3cabdc4accff",
   "metadata": {},
   "source": [
    "# Exercises on Complex Vectors and Matrices with Concrete Cases\n",
    "\n",
    "This set of exercises focuses on operations with complex column vectors and complex square matrices, including concrete cases with vectors and matrices written in LaTeX format.\n",
    "\n",
    "## Complex Column Vector Operations\n",
    "\n",
    "### Exercise 1: Sum of Two Complex Vectors\n",
    "Given two complex vectors \n",
    "$ v1 = \\begin{bmatrix} 1 + 2i \\\\ 3 - i \\end{bmatrix} $ \n",
    "and \n",
    "$ v2 = \\begin{bmatrix} 2 - i \\\\ 4 + 2i \\end{bmatrix} $, \n",
    "find their sum.\n",
    "\n",
    "### Exercise 2: Negation of a Complex Vector\n",
    "Given a complex vector \n",
    "$ v = \\begin{bmatrix} 2 + 3i \\\\ 1 - 2i \\end{bmatrix} $, \n",
    "find its negation.\n",
    "\n",
    "### Exercise 3: Multiplication of a Complex Vector by a Scalar\n",
    "Multiply the complex vector \n",
    "$ v = \\begin{bmatrix} 1 - i \\\\ 2 + 2i \\end{bmatrix} $ \n",
    "by the complex scalar $$ 3 + i $$.\n",
    "\n",
    "### Exercise 4: Transpose of a Complex Vector\n",
    "Find the transpose of the complex vector \n",
    "$ v = \\begin{bmatrix} 2 - i \\\\ 3 + 4i \\end{bmatrix} $.\n",
    "\n",
    "### Exercise 5: Conjugate of a Complex Vector\n",
    "Compute the conjugate of the complex vector \n",
    "$ v = \\begin{bmatrix} 1 + i \\\\ 2 - 3i \\end{bmatrix} $.\n",
    "\n",
    "### Exercise 6: Adjunct (Conjugate Transpose) of a Complex Vector\n",
    "Find the adjunct (or conjugate transpose) of the complex vector \n",
    "$ v = \\begin{bmatrix} 1 - 2i \\\\ 3 + i \\end{bmatrix} $.\n",
    "\n",
    "## Complex Square Matrix Operations\n",
    "\n",
    "### Exercise 7: Sum of Two Complex Matrices\n",
    "Given two complex matrices \n",
    "$ m1 = \\begin{bmatrix} 1 + i & 2 - i \\\\ 3 + 2i & 4 \\end{bmatrix} $\n",
    "and \n",
    "$ m2 = \\begin{bmatrix} 2 - 3i & 1 \\\\ i & 2 + 2i \\end{bmatrix} $, \n",
    "calculate their sum.\n",
    "\n",
    "### Exercise 8: Negation of a Complex Matrix\n",
    "Find the negation of the complex matrix \n",
    "$ m = \\begin{bmatrix} 2 + i & 3 \\\\ 1 - i & 2 + 2i \\end{bmatrix} $.\n",
    "\n",
    "### Exercise 9: Multiplication of a Complex Matrix by a Scalar\n",
    "Multiply the complex matrix \n",
    "$ m = \\begin{bmatrix} 1 - i & 2 \\\\ 3 + i & 4 - 2i \\end{bmatrix} $ \n",
    "by the complex scalar $$ 2 + 3i $$.\n",
    "\n",
    "### Exercise 10: Conjugate of a Complex Matrix\n",
    "Compute the conjugate of the complex matrix \n",
    "$ m = \\begin{bmatrix} 1 + i & 2 \\\\ 3 - i & 4 + 2i \\end{bmatrix} $.\n",
    "\n",
    "### Exercise 11: Transpose of a Complex Matrix\n",
    "Find the transpose of the complex matrix \n",
    "$ m = \\begin{bmatrix} 1 - i & 2 + 2i \\\\ 3 & 4 - i \\end{bmatrix} $.\n",
    "\n",
    "### Exercise 12: Adjunct (Conjugate Transpose) of a Complex Matrix\n",
    "Calculate the adjunct (or conjugate transpose) of the complex matrix \n",
    "$ m = \\begin{bmatrix} 1 + 2i & 3 - i \\\\ 4 & 5 + i \\end{bmatrix} $.\n",
    "\n",
    "### Exercise 13: Checking the Dimensions of a Matrix\n",
    "Determine the dimensions of the complex matrix \n",
    "$ m = \\begin{bmatrix} 1 - i & 2 \\\\ 3 + 2i & 4 - i \\end{bmatrix} $.\n",
    "\n",
    "## Multiplication of Matrices and Vectors\n",
    "\n",
    "### Exercise 14: Multiplying a Complex Square Matrix by a Complex Column Vector\n",
    "Multiply the complex square matrix \n",
    "$ m = \\begin{bmatrix} 1 + i & 2 - i \\\\ 3 & 4 + i \\end{bmatrix} $ \n",
    "by the complex column vector \n",
    "$ v = \\begin{bmatrix} 2 - i \\\\ 1 + 3i \\end{bmatrix} $.\n",
    "\n",
    "## Instructions\n",
    "For each exercise, ensure to display both the input (vectors/matrices) and the result of the operation.Use NumPy for these exercises to practice handling complex numbers and matrix operations in Python.\n"
   ]
  },
  {
   "cell_type": "markdown",
   "id": "1fbaae32",
   "metadata": {},
   "source": [
    "# Solución de los ejercicios\n",
    "\n",
    "### Exercise 1: Sum of Two Complex Vectors\n",
    "\n",
    "$ \\begin{bmatrix} 1 + 2i \\\\ 3 - i \\end{bmatrix} $ \n",
    "+\n",
    "$ \\begin{bmatrix} 2 - i \\\\ 4 + 2i \\end{bmatrix} $ =   $\\begin{bmatrix} \n",
    "(1 + 2i) + (2 - i)\\\\ \n",
    "(3 - i) + (4 + 2i) \n",
    "\\end{bmatrix}$ =$ \\begin{bmatrix} 3 + i \\\\ 7 + i \\end{bmatrix} $ \n"
   ]
  },
  {
   "cell_type": "code",
   "execution_count": 40,
   "id": "12949876-03e8-4f25-b566-517ed35ac1e1",
   "metadata": {},
   "outputs": [
    {
     "name": "stdout",
     "output_type": "stream",
     "text": [
      "La suma de los vectores a y b \n",
      "  v1 =  1.0 + 2.0i \n",
      "        3.0 - 1.0i\n",
      "  v2 =  2.0 - 1.0i \n",
      "        4.0 + 2.0i\n",
      "Suma =  3.0 + 1.0i \n",
      "        7.0 + 1.0i\n"
     ]
    }
   ],
   "source": [
    "# Exercise 1: Sum of Two Complex Vectors\n",
    "import numpy as np\n",
    "\n",
    "def format_complex(c):\n",
    "    if(c.imag == 0 and c.real == 0):\n",
    "        return 0\n",
    "    elif (c.imag == 0):\n",
    "        return f\"{c.real}\"\n",
    "    elif(c.real == 0):\n",
    "        return f\"{c.imag}i\"\n",
    "    return f\"{c.real}{' + ' if c.imag >= 0 else ' - '}{abs(c.imag)}i\"\n",
    "\n",
    "\n",
    "def format_printed(a,b,c):\n",
    "    print(\"La suma de los vectores a y b \")\n",
    "    print(\"  v1 = \", ' \\n        '.join(format_complex(x) for x in a))\n",
    "    print(\"  v2 = \", ' \\n        '.join(format_complex(x) for x in b))\n",
    "    print(\"Suma = \",' \\n        '.join(format_complex(x) for x in c))\n",
    "    \n",
    "    \n",
    "def sum_Complex_Vectors(v1,v2):\n",
    "    a = np.array(v1)\n",
    "    b = np.array(v2)\n",
    "    if (len(a) == len(b)) == True:\n",
    "        suma = np.add(a,b)\n",
    "        format_printed(a,b,suma)\n",
    "    else:\n",
    "        raise Exception (\"Error: Los vectores no son del mismo tamaño\")\n",
    "    \n",
    "\n",
    "v1 = [1+2j, 3-1j]\n",
    "v2 = [2-1j, 4+2j]\n",
    "\n",
    "sum_Complex_Vectors(v1,v2)"
   ]
  },
  {
   "cell_type": "markdown",
   "id": "48155f05",
   "metadata": {},
   "source": [
    "### Exercise 2: Negation of a Complex Vector\n",
    "\n",
    "$ v = \\begin{bmatrix} 2 + 3i \\\\ 1 - 2i \\end{bmatrix} $, su negación es: $\\begin{bmatrix} -2 - 3i \\\\ -1 + 2i \\end{bmatrix} $"
   ]
  },
  {
   "cell_type": "code",
   "execution_count": 41,
   "id": "47bbfb13",
   "metadata": {},
   "outputs": [
    {
     "name": "stdout",
     "output_type": "stream",
     "text": [
      "La negacion del vector\n",
      "   v =  2.0 + 3.0i \n",
      "        1.0 - 2.0i\n",
      "  ¬v =  -2.0 - 3.0i \n",
      "        -1.0 + 2.0i\n"
     ]
    }
   ],
   "source": [
    "#Exercise 2: Negation of a Complex Vector\n",
    "import numpy as np\n",
    "\n",
    "def format_complex(c):\n",
    "    if(c.imag == 0 and c.real == 0):\n",
    "        return 0\n",
    "    elif (c.imag == 0):\n",
    "        return f\"{c.real}\"\n",
    "    elif(c.real == 0):\n",
    "        return f\"{c.imag}i\"\n",
    "    return f\"{c.real}{' + ' if c.imag >= 0 else ' - '}{abs(c.imag)}i\"\n",
    "\n",
    "def format_printed(a,b):\n",
    "    print(\"La negacion del vector\")\n",
    "    print(\"   v = \",' \\n        '.join(format_complex(x) for x in a))\n",
    "    print(\"  ¬v = \",' \\n        '.join(format_complex(x) for x in b))\n",
    "\n",
    "def negation_Complex_Vector(a):\n",
    "    a = np.array(a)\n",
    "    v = np.negative(a)\n",
    "    format_printed(a,v)\n",
    "\n",
    "v = [2+3j,1-2j]\n",
    "negation_Complex_Vector(v)\n",
    "    "
   ]
  },
  {
   "cell_type": "markdown",
   "id": "1411660a",
   "metadata": {},
   "source": [
    "### Exercise 3: Multiplication of a Complex Vector by a Scalar\n",
    "\n",
    "$$\n",
    "(3 + i) \\cdot \\begin{bmatrix} 1 - i \\\\ 2 + 2i \\end{bmatrix} = \\begin{bmatrix} \n",
    "(3 + i) \\cdot (1 - i) \\\\ \n",
    "(3 + i) \\cdot (2 + 2i) \n",
    "\\end{bmatrix} = \\begin{bmatrix} \n",
    "4 - 2i \\\\ \n",
    "4 + 8i \n",
    "\\end{bmatrix}\n",
    "$$\n",
    "\n"
   ]
  },
  {
   "cell_type": "code",
   "execution_count": 42,
   "id": "2fe65d93",
   "metadata": {},
   "outputs": [
    {
     "name": "stdout",
     "output_type": "stream",
     "text": [
      "La multiplicación del vector\n",
      "      v =  1.0 - 1.0i \n",
      "           2.0 + 2.0i\n",
      "y el escalar  3.0 + 1.0i es: \n",
      "  s * V =  4.0 - 2.0i \n",
      "           4.0 + 8.0i\n"
     ]
    }
   ],
   "source": [
    "# Exercise 3: Multiplication of a Complex Vector by a Scalar\n",
    "import numpy as np\n",
    "\n",
    "def format_complex(c):\n",
    "    if(c.imag == 0 and c.real == 0):\n",
    "        return 0\n",
    "    elif (c.imag == 0):\n",
    "        return f\"{c.real}\"\n",
    "    elif(c.real == 0):\n",
    "        return f\"{c.imag}i\"\n",
    "    return f\"{c.real}{' + ' if c.imag >= 0 else ' - '}{abs(c.imag)}i\"\n",
    "\n",
    "\n",
    "def format_printed(a,b,c):\n",
    "    print(\"La multiplicación del vector\")\n",
    "    print(\"      v = \",' \\n           '.join(format_complex(x) for x in a))\n",
    "    print(\"y el escalar \", format_complex(b), \"es: \")\n",
    "    print(\"  s * V = \",' \\n           '.join(format_complex(x) for x in c))\n",
    "\n",
    "def multiplication_Complex_vector_scalar(vector,scalar):\n",
    "    v = np.array(vector)\n",
    "    multiplication = np.multiply(scalar,v)\n",
    "    format_printed(v,scalar,multiplication)\n",
    "\n",
    "vector = [1-1j,2+2j]\n",
    "scalar = 3+1j\n",
    "multiplication_Complex_vector_scalar(vector,scalar)\n",
    "\n"
   ]
  },
  {
   "cell_type": "markdown",
   "id": "715660c6",
   "metadata": {},
   "source": [
    "### Exercise 4: Transpose of a Complex Vector\n",
    "\n",
    "$ v = \\begin{bmatrix} 2 - i \\\\ 3 + 4i \\end{bmatrix} $, su traspuesta es $ \\begin{bmatrix} 2 - i , 3 + 4i \\end{bmatrix} $ "
   ]
  },
  {
   "cell_type": "code",
   "execution_count": 43,
   "id": "9edcd90f",
   "metadata": {},
   "outputs": [
    {
     "name": "stdout",
     "output_type": "stream",
     "text": [
      " v =  2.0 - 1.0i\n",
      "      3.0 + 4.0i\n",
      "la transpuesta es: [[2.-1.j 3.+4.j]]\n"
     ]
    }
   ],
   "source": [
    "import numpy as np\n",
    "\n",
    "def format_complex(c):\n",
    "    if(c.imag == 0 and c.real == 0):\n",
    "        return 0\n",
    "    elif (c.imag == 0):\n",
    "        return f\"{c.real}\"\n",
    "    elif(c.real == 0):\n",
    "        return f\"{c.imag}i\"\n",
    "    return f\"{c.real}{' + ' if c.imag >= 0 else ' - '}{abs(c.imag)}i\"\n",
    "\n",
    "def format_printed(a,b):\n",
    "    m = 0\n",
    "    for i in a:\n",
    "        if (m > 0):\n",
    "            m += 1\n",
    "            print (\"     \", ' '.join(format_complex(x) for x in i) )\n",
    "        else:\n",
    "            m += 1\n",
    "            print(\" v = \", ' '.join(format_complex(x) for x in i)) \n",
    "    print(\"la transpuesta es:\", str(b))\n",
    "\n",
    "def transpose(a):\n",
    "    a = np.array(a)\n",
    "    b = a.T\n",
    "    format_printed(a,b)\n",
    "\n",
    "a = [[2-1j],[3+4j]]\n",
    "transpose(a)\n"
   ]
  },
  {
   "cell_type": "markdown",
   "id": "336c1ffa",
   "metadata": {},
   "source": [
    "### Exercise 5: Conjugate of a Complex Vector\n",
    "\n",
    "$ v = \\begin{bmatrix} 1 + i \\\\ 2 - 3i \\end{bmatrix} $ "
   ]
  },
  {
   "cell_type": "code",
   "execution_count": 44,
   "id": "1ca84569",
   "metadata": {},
   "outputs": [
    {
     "name": "stdout",
     "output_type": "stream",
     "text": [
      "El conjugado del vector\n",
      "     v =   1.0 + 1.0i \n",
      "           2.0 - 3.0i\n",
      "     es:   1.0 - 1.0i \n",
      "           2.0 + 3.0i\n"
     ]
    }
   ],
   "source": [
    "import numpy as np\n",
    "\n",
    "def format_complex(c):\n",
    "    if(c.imag == 0 and c.real == 0):\n",
    "        return 0\n",
    "    elif (c.imag == 0):\n",
    "        return f\"{c.real}\"\n",
    "    elif(c.real == 0):\n",
    "        return f\"{c.imag}i\"\n",
    "    return f\"{c.real}{' + ' if c.imag >= 0 else ' - '}{abs(c.imag)}i\"\n",
    "\n",
    "def format_printed(a,b):\n",
    "    print(\"El conjugado del vector\")\n",
    "    print(\"     v =  \",' \\n           '.join(format_complex(x) for x in a))\n",
    "    print(\"     es: \", end=\" \")\n",
    "    print(\"\",' \\n           '.join(format_complex(x) for x in b))\n",
    "\n",
    "def conjugateV(a):\n",
    "    a = np.array(a)\n",
    "    b = a.conjugate()\n",
    "    format_printed(a,b)\n",
    "\n",
    "a = [1+1j,2-3j]\n",
    "conjugateV(a)\n"
   ]
  },
  {
   "cell_type": "markdown",
   "id": "3c4e1e3a",
   "metadata": {},
   "source": [
    "### Exercise 6: Adjunct (Conjugate Transpose) of a Complex Vector\n",
    " \n",
    "$ v = \\begin{bmatrix} 1 - 2i \\\\ 3 + i \\end{bmatrix} $ --> $ \\begin{bmatrix} 1 + 2i \\\\ 3 - i \\end{bmatrix} $  --> $ \\begin{bmatrix} 1 + 2i & 3 - i \\end{bmatrix} $\n"
   ]
  },
  {
   "cell_type": "code",
   "execution_count": 45,
   "id": "21059334",
   "metadata": {},
   "outputs": [
    {
     "name": "stdout",
     "output_type": "stream",
     "text": [
      "La adjunta del vector\n",
      " a =  1.0 - 2.0i\n",
      "      3.0 + 1.0i\n",
      "es: [1.0 + 2.0i , 3.0 - 1.0i]\n"
     ]
    }
   ],
   "source": [
    "import numpy as np\n",
    "\n",
    "def format_complex(c):\n",
    "    if(c.imag == 0 and c.real == 0):\n",
    "        return 0\n",
    "    elif (c.imag == 0):\n",
    "        return f\"{c.real}\"\n",
    "    elif(c.real == 0):\n",
    "        return f\"{c.imag}i\"\n",
    "    return f\"{c.real}{' + ' if c.imag >= 0 else ' - '}{abs(c.imag)}i\"\n",
    "\n",
    "def format_printed(a,b):\n",
    "    print(\"La adjunta del vector\")\n",
    "    m = 0\n",
    "    for i in a:\n",
    "        if (m > 0):\n",
    "            m += 1\n",
    "            print (\"     \", ' '.join(format_complex(x) for x in i) )\n",
    "        else:\n",
    "            m += 1\n",
    "            print(\" a = \", ' '.join(format_complex(x) for x in i))\n",
    "    print(\"es: [\",end=\"\")\n",
    "    for i in b:\n",
    "        print(' , '.join(format_complex(x) for x in i),end=\"\")\n",
    "    print(\"]\")\n",
    "    \n",
    "\n",
    "def adjunct(a):\n",
    "    a = np.array(a)\n",
    "    b = (a.T).conjugate()\n",
    "    format_printed(a,b)\n",
    "\n",
    "a = [[1-2j],[3+1j]]\n",
    "adjunct(a)"
   ]
  },
  {
   "cell_type": "markdown",
   "id": "7b226880",
   "metadata": {},
   "source": [
    "### Exercise 7: Sum of Two Complex Matrices\n",
    " \n",
    "$ \\begin{bmatrix} 1 + i & 2 - i \\\\ 3 + 2i & 4 \\end{bmatrix} $ + \n",
    "$  \\begin{bmatrix} 2 - 3i & 1 \\\\ i & 2 + 2i \\end{bmatrix} $ = $  \\begin{bmatrix} (1 + i)+(2 - 3i) & (3 + 2i)+1 \\\\ (2 - i )+i & 4+(2 + 2i) \\end{bmatrix} $ = $ \\begin{bmatrix} 3 - 2i & 3 - i \\\\ 3 + 3i & 6 + 4i \\end{bmatrix} $"
   ]
  },
  {
   "cell_type": "code",
   "execution_count": 61,
   "id": "586ac00c",
   "metadata": {},
   "outputs": [
    {
     "name": "stdout",
     "output_type": "stream",
     "text": [
      "La suma de las matrices\n",
      " a =  1.0 + 1.0i     2.0 - 1.0i\n",
      "      3.0 + 2.0i     4.0\n",
      "\n",
      " b =  2.0 - 3.0i     1.0\n",
      "      1.0i           2.0 + 2.0i\n",
      "\n",
      " es:  3.0 - 2.0i     3.0 - 1.0i\n",
      "      3.0 + 3.0i     6.0 + 2.0i\n"
     ]
    }
   ],
   "source": [
    "import numpy as np\n",
    "\n",
    "def format_complex(c):\n",
    "    if(c.imag == 0 and c.real == 0):\n",
    "        return 0\n",
    "    elif (c.imag == 0):\n",
    "        return f\"{c.real}\"\n",
    "    elif(c.real == 0):\n",
    "        return f\"{c.imag}i\"\n",
    "    return f\"{c.real}{' + ' if c.imag >= 0 else ' - '}{abs(c.imag)}i\"\n",
    "\n",
    "def format_printed(a,b,c):\n",
    "    print(\"La suma de las matrices\")\n",
    "    m = 0\n",
    "    for i in a:\n",
    "        if (m > 0):\n",
    "            m += 1\n",
    "            print (\"     \", '     '.join(format_complex(x) for x in i) )\n",
    "        else:\n",
    "            m += 1\n",
    "            print(\" a = \", '     '.join(format_complex(x) for x in i))\n",
    "    print()\n",
    "    m = 0\n",
    "    for i in b:\n",
    "        if (m > 0):\n",
    "            m += 1\n",
    "            print (\"     \", '           '.join(format_complex(x) for x in i) )\n",
    "        else:\n",
    "            m += 1\n",
    "            print(\" b = \", '     '.join(format_complex(x) for x in i))\n",
    "    print()\n",
    "    print(\" es: \", end= \"\")\n",
    "    m = 0\n",
    "    for i in c:\n",
    "        if (m > 0):\n",
    "            m += 1\n",
    "            print(\"     \", '     '.join(format_complex(x) for x in i) )\n",
    "        else:\n",
    "            m += 1\n",
    "            print(\"\", '     '.join(format_complex(x) for x in i))\n",
    "    \n",
    "\n",
    "def sum_Complex_Matrices(a,b):\n",
    "    a = np.array(a)\n",
    "    b = np.array(b)\n",
    "    if len_matrix(a,b) == True:\n",
    "        c = np.add(a,b)\n",
    "        format_printed(a,b,c)\n",
    "    else:\n",
    "        raise Exception(\"Error: Las matrices no pertenecen al mismo R, no se puede reaizar la suma\")\n",
    "    \n",
    "\n",
    "def len_matrix(a,b):\n",
    "    if len(a) == len(b):\n",
    "        if len(a[0])==len(b[0]):\n",
    "            return True\n",
    "        return False\n",
    "    return False\n",
    "a = [[1+1j,2-1j],[3+2j,4]]\n",
    "b = [[2-3j,1],[1j,2+2j]]\n",
    "sum_Complex_Matrices(a,b)"
   ]
  },
  {
   "cell_type": "markdown",
   "id": "b2d81c7e",
   "metadata": {},
   "source": []
  }
 ],
 "metadata": {
  "kernelspec": {
   "display_name": "Python 3 (ipykernel)",
   "language": "python",
   "name": "python3"
  },
  "language_info": {
   "codemirror_mode": {
    "name": "ipython",
    "version": 3
   },
   "file_extension": ".py",
   "mimetype": "text/x-python",
   "name": "python",
   "nbconvert_exporter": "python",
   "pygments_lexer": "ipython3",
   "version": "3.12.5"
  }
 },
 "nbformat": 4,
 "nbformat_minor": 5
}
