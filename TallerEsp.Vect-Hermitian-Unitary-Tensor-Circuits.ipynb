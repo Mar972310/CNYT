{
 "cells": [
  {
   "cell_type": "markdown",
   "id": "c7d4de9a-e7dc-4cf3-bd8d-7da869ceb9ac",
   "metadata": {},
   "source": [
    "# Hermitian Matrices, Unitary Matrices and Tensor Product"
   ]
  },
  {
   "cell_type": "markdown",
   "id": "007db568-62bf-4098-a52f-281b41db3012",
   "metadata": {},
   "source": [
    "\n",
    "# Understanding Complex Hermitian and Unitary Matrices\n",
    "\n",
    "This tutorial delves into two pivotal concepts in quantum computing and linear algebra: complex Hermitian and Unitary matrices. Both play critical roles in quantum mechanics and quantum computing, underpinning the behavior of quantum systems and the operations performed on them.\n",
    "\n",
    "## Objectives\n",
    "- Define and explore the properties of complex Hermitian matrices.\n",
    "- Understand and implement complex Unitary matrices in Python.\n",
    "- Highlight their significance and applications in quantum computing.\n",
    "\n",
    "Prepare to enhance your mathematical toolkit with these foundational concepts, illustrated with Python examples for a hands-on learning experience.\n"
   ]
  },
  {
   "cell_type": "markdown",
   "id": "172b4789-ccc2-41be-ae1b-fff456a76c41",
   "metadata": {},
   "source": [
    "\n",
    "## Complex Hermitian Matrices\n",
    "\n",
    "A Hermitian matrix, or self-adjoint matrix, is a square matrix that is equal to its own conjugate transpose. This property makes it a natural representation of observable quantities in quantum mechanics.\n",
    "\n",
    "### Properties\n",
    "- The eigenvalues of a Hermitian matrix are always real.\n",
    "- The eigenvectors of a Hermitian matrix corresponding to different eigenvalues are orthogonal.\n",
    "- Hermitian matrices are extensively used in quantum mechanics to describe physical observables.\n",
    "\n",
    "### Python Example: Defining a Hermitian Matrix\n"
   ]
  },
  {
   "cell_type": "code",
   "execution_count": 4,
   "id": "be7b7f14-c501-4fd9-a482-73f4acf8bfd9",
   "metadata": {},
   "outputs": [
    {
     "data": {
      "text/plain": [
       "(True,\n",
       " array([[2.+0.j, 2.-1.j],\n",
       "        [2.+1.j, 3.+0.j]]))"
      ]
     },
     "execution_count": 4,
     "metadata": {},
     "output_type": "execute_result"
    }
   ],
   "source": [
    "\n",
    "import numpy as np\n",
    "\n",
    "# Define a complex Hermitian matrix\n",
    "hermitian_matrix = np.array([[2+0j, 2-1j], [2+1j, 3+0j]])\n",
    "\n",
    "# Check if the matrix is Hermitian\n",
    "is_hermitian = np.allclose(hermitian_matrix, hermitian_matrix.conj().T)\n",
    "\n",
    "is_hermitian, hermitian_matrix\n"
   ]
  },
  {
   "cell_type": "markdown",
   "id": "6c6e41c4-7edb-46e0-b5a3-9dc381541312",
   "metadata": {},
   "source": [
    "\n",
    "## Complex Unitary Matrices\n",
    "\n",
    "A Unitary matrix is a square matrix whose conjugate transpose is also its inverse. Unitary matrices preserve the inner product, making them essential for describing quantum gates and evolution in quantum computing.\n",
    "\n",
    "### Properties\n",
    "- Preserves the norm of vectors, hence preserving quantum states during transformations.\n",
    "- The determinant of a Unitary matrix has an absolute value of 1.\n",
    "- Used to represent reversible quantum operations and time evolution in quantum systems.\n",
    "\n",
    "### Python Example: Defining a Unitary Matrix\n"
   ]
  },
  {
   "cell_type": "code",
   "execution_count": 5,
   "id": "72119954-9647-4f66-93e9-c014c05bb48c",
   "metadata": {},
   "outputs": [
    {
     "data": {
      "text/plain": [
       "(True,\n",
       " array([[ 0.70710678+0.j        ,  0.70710678+0.j        ],\n",
       "        [ 0.        +0.70710678j, -0.        -0.70710678j]]))"
      ]
     },
     "execution_count": 5,
     "metadata": {},
     "output_type": "execute_result"
    }
   ],
   "source": [
    "\n",
    "# Define a complex Unitary matrix\n",
    "unitary_matrix = np.array([[1/np.sqrt(2), 1/np.sqrt(2)], [1/np.sqrt(2)*1j, -1/np.sqrt(2)*1j]])\n",
    "\n",
    "# Check if the matrix is Unitary\n",
    "# np.eye(2) returns the identity of size 2x2\n",
    "is_unitary = np.allclose(np.dot(unitary_matrix, unitary_matrix.conj().T), np.eye(2))\n",
    "\n",
    "is_unitary, unitary_matrix\n"
   ]
  },
  {
   "cell_type": "markdown",
   "id": "85750bcf-34ab-49ab-9163-509b29e719c9",
   "metadata": {},
   "source": [
    "# Tensor product"
   ]
  },
  {
   "cell_type": "markdown",
   "id": "b85487ee-1d19-47ab-a0a7-e05c8b758b13",
   "metadata": {},
   "source": [
    "\n",
    "## Tensor Product for Complex Vectors\n",
    "\n",
    "The tensor product of two complex vectors creates a new vector in a higher-dimensional space, allowing us to combine quantum states in quantum computing.\n",
    "\n",
    "### Example\n"
   ]
  },
  {
   "cell_type": "code",
   "execution_count": 6,
   "id": "c4619aad-e04f-4787-a8ff-8e324f13b816",
   "metadata": {},
   "outputs": [
    {
     "data": {
      "text/plain": [
       "array([ -7.+16.j,  -9.+22.j,  -9.+38.j, -11.+52.j])"
      ]
     },
     "execution_count": 6,
     "metadata": {},
     "output_type": "execute_result"
    }
   ],
   "source": [
    "\n",
    "import numpy as np\n",
    "\n",
    "# Define two complex vectors for the tensor product\n",
    "v1 = np.array([1+2j, 3+4j])\n",
    "v2 = np.array([5+6j, 7+8j])\n",
    "\n",
    "# Calculate the tensor product\n",
    "tensor_product_v = np.kron(v1, v2)\n",
    "\n",
    "tensor_product_v\n"
   ]
  },
  {
   "cell_type": "markdown",
   "id": "aa89e379-8ce8-493d-8b0e-6461a7fc1325",
   "metadata": {},
   "source": [
    "\n",
    "## Tensor Product for Complex Matrices\n",
    "\n",
    "The tensor product for matrices combines individual matrices into a larger matrix, crucial for representing multiple qubit systems in quantum computing.\n",
    "\n",
    "### Example\n"
   ]
  },
  {
   "cell_type": "code",
   "execution_count": 7,
   "id": "c558e2f2-8ecf-466a-8fb4-469566157419",
   "metadata": {},
   "outputs": [
    {
     "data": {
      "text/plain": [
       "array([[-11. +28.j, -13. +34.j, -13. +66.j, -15. +80.j],\n",
       "       [-15. +40.j, -17. +46.j, -17. +94.j, -19.+108.j],\n",
       "       [-15.+104.j, -17.+126.j, -17.+142.j, -19.+172.j],\n",
       "       [-19.+148.j, -21.+170.j, -21.+202.j, -23.+232.j]])"
      ]
     },
     "execution_count": 7,
     "metadata": {},
     "output_type": "execute_result"
    }
   ],
   "source": [
    "\n",
    "# Define two complex matrices for the tensor product\n",
    "M1 = np.array([[1+2j, 3+4j], [5+6j, 7+8j]])\n",
    "M2 = np.array([[9+10j, 11+12j], [13+14j, 15+16j]])\n",
    "\n",
    "# Calculate the tensor product\n",
    "tensor_product_m = np.kron(M1, M2)\n",
    "\n",
    "tensor_product_m\n"
   ]
  },
  {
   "cell_type": "markdown",
   "id": "ffa82608-ea8c-4bc7-b357-a8552a649f0c",
   "metadata": {},
   "source": [
    "# Exercises on Complex Vector and Matrix Operations\n",
    "\n",
    "This set of exercises is designed to test your understanding of various concepts related to complex vector and matrix operations, which are foundational in quantum computing. Each exercise presents a concrete case for you to apply what you've learned about Hermitian matrices, Unitary matrices, and tensor products.\n",
    "\n",
    "NOTE: VERIFY YOUR COMPUTATIONS IN PAPER AND IN THE COMPUTER.\n",
    "\n",
    "## Exercise 1: Complex Hermitian Matrices\n",
    "\n",
    "Consider the matrix:\n",
    "\n",
    "$$ H = \\begin{bmatrix} 3 & 2+i \\\\ 2-i & 1 \\end{bmatrix} $$\n",
    "\n",
    "- Verify if $ H $ is a Hermitian matrix.\n",
    "- If it is, find its eigenvalues.\n",
    "\n",
    "## Exercise 2: Complex Unitary Matrices\n",
    "\n",
    "Consider the matrix:\n",
    "\n",
    "$$ U = \\frac{1}{\\sqrt{2}}\\begin{bmatrix} 1 & i \\\\ i & 1 \\end{bmatrix} $$\n",
    "\n",
    "- Verify if $ U $ is a Unitary matrix.\n",
    "- Compute $ UU^\\dagger $ to confirm its Unitarity, where $ U^\\dagger $ denotes the conjugate transpose of $ U $.\n",
    "\n",
    "## Exercise 3: Tensor Product for Complex Vectors\n",
    "\n",
    "Given the complex vectors:\n",
    "\n",
    "$$ \\mathbf{v} = \\begin{bmatrix} 1+i \\\\ 2-i \\end{bmatrix}, \\quad \\mathbf{w} = \\begin{bmatrix} 1-2i \\\\ 3 \\end{bmatrix} $$\n",
    "\n",
    "Calculate the tensor product $ \\mathbf{v} \\otimes \\mathbf{w} $.\n",
    "\n",
    "## Exercise 4: Tensor Product for Complex Matrices\n",
    "\n",
    "Given the matrices:\n",
    "\n",
    "$$ M_1 = \\begin{bmatrix} 0 & 1 \\\\ 1 & 0 \\end{bmatrix}, \\quad M_2 = \\begin{bmatrix} i & 0 \\\\ 0 & -i \\end{bmatrix} $$\n",
    "\n",
    "Calculate the tensor product $ M_1 \\otimes M_2 $.\n",
    "\n",
    "## Exercise 5: Modelling quantum computations with vectors and matrices\n",
    "\n",
    "Using matrices and vectors, implement a model of the Mach/Zehnder interferometer.\n",
    "\n",
    "![Mach-Zehnder interferometer](images/Mach-Zehnder-Interferometer.png)\n",
    "\n",
    "## Exercise 6: Composing quantum systems \n",
    "\n",
    "Using matrices and vectors, implement a model of the following circuit.\n",
    "\n",
    "![Mach-Zehnder interferometer](images/Deutsch-Algorithm.png)\n",
    "\n",
    "Use the following MAtrix for $U_f$:\n",
    "\n",
    "![Mach-Zehnder interferometer](images/ExampleUf.png)\n",
    "\n"
   ]
  },
  {
   "cell_type": "markdown",
   "id": "f5cd8ca3",
   "metadata": {},
   "source": [
    "<h1 style=\"text-align: center;\">Solución de los Ejercicios</h1>\n"
   ]
  },
  {
   "cell_type": "markdown",
   "id": "f1915559",
   "metadata": {},
   "source": [
    "## Exercise 1: Complex Hermitian Matrices\n",
    "\n",
    "Consider the matrix:\n",
    "\n",
    "$$ H = \\begin{bmatrix} 3 & 2+i \\\\ 2-i & 1 \\end{bmatrix} $$\n",
    "\n",
    "- Verify if $ H $ is a Hermitian matrix.\n",
    "- If it is, find its eigenvalues.\n"
   ]
  },
  {
   "cell_type": "code",
   "execution_count": 60,
   "id": "88e33dfd-c15e-4cbb-8b20-208efb0aadf7",
   "metadata": {},
   "outputs": [
    {
     "name": "stdout",
     "output_type": "stream",
     "text": [
      "La matriz \n",
      " H =  3.0 2.0 - 1.0j\n",
      "      2.0 - 1.0j 1.0\n",
      "No es hermitiana \n"
     ]
    }
   ],
   "source": [
    "import numpy as np\n",
    "\n",
    "#funcion para quitarle los parentesis a los numero complejos, si una de sus partes es 0 también se elimina \n",
    "def format_complex(c):\n",
    "    if (c.imag == 0):\n",
    "        return f\"{c.real}\"\n",
    "    elif(c.real == 0):\n",
    "        return f\"{c.imag}j\"\n",
    "    return f\"{c.real}{' + ' if c.imag >= 0 else ' - '}{abs(c.imag)}j\"\n",
    "\n",
    "#funcion que utilizaremos si la matriz es hermitiana para imprimir los valores propios\n",
    "def format_printed_hermitian(eigenvalues,a):\n",
    "    format_print_matrix(a)\n",
    "    print(\"ES hermitiana y sus valores propios son: \")\n",
    "    print(\"\")\n",
    "    for i in range(len(eigenvalues)):\n",
    "        print(f\"ValorPropio{i+1}:\",format_complex(eigenvalues[i]))\n",
    "\n",
    "#Funcion para imprimir la matriz inicial\n",
    "def format_print_matrix(a):\n",
    "    print(\"La matriz \")\n",
    "    m = 0\n",
    "    for i in a:\n",
    "        if (m > 0):\n",
    "            m += 1\n",
    "            print (\"     \", ' '.join(format_complex(x) for x in i) )\n",
    "        else:\n",
    "            m += 1\n",
    "            print(\" H = \", ' '.join(format_complex(x) for x in i))\n",
    "\n",
    "# Define a complex Hermitian matrix\n",
    "H = np.array([[3, 2-1j], [2-1j, 1]])\n",
    "\n",
    "#funcion que tiene la lógica para saber si es hermitiana y si lo es calcular sus valores propios \n",
    "def isHermitian(a):\n",
    "    is_hermitian = np.allclose(a, a.conj().T)\n",
    "    if is_hermitian== True:\n",
    "        eigenvalues, eigenvectors = np.linalg.eig(a)\n",
    "        format_printed_hermitian(eigenvalues,a)\n",
    "    else:\n",
    "        format_print_matrix(a)\n",
    "        print(\"No es hermitiana \")\n",
    "        \n",
    "isHermitian(H)"
   ]
  },
  {
   "cell_type": "markdown",
   "id": "a2d4fffd",
   "metadata": {},
   "source": [
    "## Exercise 2: Complex Unitary Matrices\n",
    "\n",
    "Consider the matrix:\n",
    "\n",
    "$$ U = \\frac{1}{\\sqrt{2}}\\begin{bmatrix} 1 & i \\\\ i & 1 \\end{bmatrix} $$\n",
    "\n",
    "- Verify if $ U $ is a Unitary matrix.\n",
    "- Compute $ UU^\\dagger $ to confirm its Unitarity, where $ U^\\dagger $ denotes the conjugate transpose of $ U $.\n"
   ]
  },
  {
   "cell_type": "code",
   "execution_count": 73,
   "id": "6e0ac9d9",
   "metadata": {},
   "outputs": [
    {
     "name": "stdout",
     "output_type": "stream",
     "text": [
      "Si calculamos su adjunta\n",
      "  U✝   =  0.7071067811865475   -0.7071067811865475j\n",
      "          -0.7071067811865475j   -0.7071067811865475\n",
      "y está la multiplicamos por la matriz inicial \n",
      "  U    =  0.7071067811865475   0.7071067811865475j\n",
      "          0.7071067811865475j   -0.7071067811865475\n",
      "El resultado es:\n",
      "  UU✝  =  0.7071067811865475   0.7071067811865475j\n",
      "          0.7071067811865475j   -0.7071067811865475\n"
     ]
    },
    {
     "data": {
      "text/plain": [
       "'NO es una matriz unitaria'"
      ]
     },
     "execution_count": 73,
     "metadata": {},
     "output_type": "execute_result"
    }
   ],
   "source": [
    "U = np.array([[1/np.sqrt(2), 1/np.sqrt(2)*1j], [1/np.sqrt(2)*1j, -1/np.sqrt(2)]])\n",
    "unitary_matrix = np.array([[1/np.sqrt(2), 1/np.sqrt(2)], [1/np.sqrt(2)*1j, -1/np.sqrt(2)*1j]])\n",
    "\n",
    "def format_print_matrix(a,t):\n",
    "    m = 0\n",
    "    for i in a:\n",
    "        if (m > 0):\n",
    "            m += 1\n",
    "            print (\"         \", '   '.join(format_complex(x) for x in i) )\n",
    "        else:\n",
    "            m += 1\n",
    "            print(\" \",t,\" = \", '   '.join(format_complex(x) for x in i))\n",
    "\n",
    "def prove_unitary(U):\n",
    "    uadjunct = U.conj().T\n",
    "    print(\"Si calculamos su adjunta\")\n",
    "    format_print_matrix(uadjunct, \"U✝ \")\n",
    "    print(\"y está la multiplicamos por la matriz inicial \")\n",
    "    format_print_matrix(U,\"U  \")\n",
    "    UUt = np.dot(U, uadjunct)\n",
    "    print(\"El resultado es:\")\n",
    "    format_print_matrix(U,\"UU✝\")\n",
    "    if(np.allclose(np.dot(U, U.conj().T), np.eye(2))):\n",
    "        return \"ES una matriz unitaria, ya que al hacer la operación UU✝ nos da la matriz identidad\"\n",
    "    return \"NO es una matriz unitaria\"\n",
    "\n",
    "prove_unitary(U)\n",
    "\n"
   ]
  },
  {
   "cell_type": "markdown",
   "id": "d5cb19f4",
   "metadata": {},
   "source": [
    "## Exercise 5: Modelling quantum computations with vectors and matrices\n",
    "\n",
    "Using matrices and vectors, implement a model of the Mach/Zehnder interferometer.\n",
    "\n",
    "![Mach-Zehnder interferometer](images/Mach-Zehnder-Interferometer.png)\n",
    "\n",
    "\n",
    "Para resolver este ejercicio empezaremos de derecha a izquierda de la siguiente ecuación:\n",
    "$$\n",
    "|Y\\rangle = |Y_3\\rangle \\times |Y_2\\rangle \\times |Y_1\\rangle \\times |Y_0\\rangle\n",
    "$$\n",
    "Remplazando con los componentes del circuito no queda la siguiente escuación:\n",
    "$$\n",
    "|Y\\rangle = H \\cdot \\left( X \\cdot \\left( H \\cdot |0\\rangle \\right) \\right)\n",
    "$$\n"
   ]
  },
  {
   "cell_type": "code",
   "execution_count": 54,
   "id": "21a28931",
   "metadata": {},
   "outputs": [
    {
     "name": "stdout",
     "output_type": "stream",
     "text": [
      " |Y} =  H * ( X * ( H * |0〉) )\n",
      " |Y} =  ⌈ 1 ⌉\n",
      "        ⌊ 0 ⌋\n"
     ]
    }
   ],
   "source": [
    "import numpy as np\n",
    "\n",
    "def mach_Zehnder(Q0,H,X):\n",
    "    y0 = Q0\n",
    "    y1 = np.dot(H,y0)\n",
    "    y2 = np.dot(X,y1)\n",
    "    y3 = np.dot(H,y2)\n",
    "    print(\" |Y} =  H * ( X * ( H * |0〉) )\")\n",
    "    print(\" |Y} =  \", end=\"\")\n",
    "    format_print(y3)\n",
    "\n",
    "def format_print(vector):\n",
    "    vector = np.round(vector,decimals=1)\n",
    "    #Cambiamos de vector columna a vector fila para una iteración más simple  \n",
    "    vector = vector.flatten() \n",
    "    a = []\n",
    "    m = 0\n",
    "    for x in vector:\n",
    "        if x.is_integer():\n",
    "            if (m == np.size(vector)-1):\n",
    "                print(\"        ⌊\", int(x), \"⌋\")\n",
    "            elif (m > 0):\n",
    "                print(\"        |\", int(x), \"|\")\n",
    "            else:\n",
    "                print(\"⌈\", int(x), \"⌉\")\n",
    "            m += 1\n",
    "        else:\n",
    "            if (m == np.size(vector)-1):\n",
    "                print(\"        ⌊\", int(x), \"⌋\")\n",
    "            elif (m > 0):\n",
    "                print(\"        |\", int(x), \"|\")\n",
    "            else:\n",
    "                print(\"⌈\", int(x), \"⌉\")\n",
    "            m += 1\n",
    "    \n",
    "Q0 = np.array([[1],[0]])\n",
    "H = np.array([[1/np.sqrt(2), 1/np.sqrt(2)], [1/np.sqrt(2), -1/np.sqrt(2)]])\n",
    "X = np.array([[0,1],[1,0]])\n",
    "\n",
    "mach_Zehnder(Q0,H,X)"
   ]
  },
  {
   "cell_type": "markdown",
   "id": "98babce5",
   "metadata": {},
   "source": [
    "## Exercise 6: Composing quantum systems \n",
    "\n",
    "![Mach-Zehnder interferometer](images/Deutsch-Algorithm.png)\n",
    "\n",
    "Use the following MAtrix for $U_f$:\n",
    "\n",
    "![Mach-Zehnder interferometer](images/ExampleUf.png)\n",
    "\n",
    "La ecuación para poder calcular la salida del circuito es:\n",
    "$$\n",
    "|Y\\rangle = |Y_3\\rangle \\times |Y_2\\rangle \\times |Y_1\\rangle \\times |Y_0\\rangle\n",
    "$$\n",
    "Remplazando con los componentes del circuito no queda la siguiente escuación:\n",
    "$$\n",
    "|Y\\rangle = (H \\otimes I) \\cdot \\left( U_f \\cdot \\left((H \\otimes H) \\cdot ( |0\\rangle \\otimes |1\\rangle  )\\right)\\right)\n",
    "$$"
   ]
  },
  {
   "cell_type": "code",
   "execution_count": 53,
   "id": "356f4b3b",
   "metadata": {},
   "outputs": [
    {
     "name": "stdout",
     "output_type": "stream",
     "text": [
      " |Y} = (H ⊗ I) *( Uf * ((H ⊗ H ) * ( |0〉 ⊗ |1〉 )))\n",
      " |Y} = ⌈      0      ⌉\n",
      "       |      0      |\n",
      "       | -0.70710678 |\n",
      "       ⌊  0.70710678 ⌋\n"
     ]
    }
   ],
   "source": [
    "import numpy as np\n",
    "\n",
    "def format_print(vector):\n",
    "    \n",
    "    vector = np.round(vector,decimals=8)\n",
    "    #Cambiamos de vector columna a vector fila para una iteración más simple  \n",
    "    vector = vector.flatten() \n",
    "    m = 0\n",
    "    for x in vector:\n",
    "        if x.is_integer() and x == 0.00000000:\n",
    "            if (m == np.size(vector)-1):\n",
    "                print(\"       ⌊     \", 0, \"     ⌋\")\n",
    "            elif (m > 0):\n",
    "                print(\"       |     \", 0, \"     |\")\n",
    "            else:\n",
    "                print(\"⌈     \", 0, \"     ⌉\")\n",
    "            m += 1\n",
    "        elif x > 0:\n",
    "            if (m == np.size(vector)-1):\n",
    "                print(\"       ⌊ \", x, \"⌋\")\n",
    "            elif (m > 0):\n",
    "                print(\"       | \", x, \"|\")\n",
    "            else:\n",
    "                print(\"⌈ \", x, \"⌉\")\n",
    "            m += 1\n",
    "        else:\n",
    "            if (m == np.size(vector)-1):\n",
    "                print(\"       ⌊\", x, \"⌋\")\n",
    "            elif (m > 0):\n",
    "                print(\"       |\", x, \"|\")\n",
    "            else:\n",
    "                print(\"⌈\", x, \"⌉\")\n",
    "            m += 1\n",
    "\n",
    "#Función que calcula el  producto tensor de matrices y vectores columna\n",
    "def product_tensor(a,b):\n",
    "    result = np.kron(a, b)\n",
    "    return result\n",
    "\n",
    "#Función que calcula el producto de una matriz y un vector columna\n",
    "\n",
    "def product_vector_matrix(v, M):\n",
    "    result = np.dot(M, v)\n",
    "    return result\n",
    "\n",
    "#Función que calcula el |y} del circuito\n",
    "    \n",
    "def deutsch(Q0,Q1,H,Uf,identidad):\n",
    "    y0 = product_tensor(Q0,Q1)\n",
    "    y1 = product_vector_matrix(y0,product_tensor(H,H))\n",
    "    y2 = product_vector_matrix(y1,Uf)\n",
    "    y3 = product_vector_matrix(y2,product_tensor(H,identidad))\n",
    "    print(\" |Y} = (H ⊗ I) *( Uf * ((H ⊗ H ) * ( |0〉 ⊗ |1〉 )))\")\n",
    "    print(\" |Y} = \", end=\"\")\n",
    "    format_print(y3)\n",
    "\n",
    "#definicion de las matrices y vectores columna del circuito\n",
    "\n",
    "Q0 = np.array([[1],[0]])\n",
    "Q1 = np.array([[0],[1]])\n",
    "H = np.array([[1/np.sqrt(2), 1/np.sqrt(2)], [1/np.sqrt(2), -1/np.sqrt(2)]])\n",
    "Uf = np.array([[0,1,0,0],[1,0,0,0],[0,0,1,0],[0,0,0,1]])\n",
    "identidad = np.array([[1,0],[0,1]])\n",
    "\n",
    "# Llamada de la función y sus respectivas matrices y vectores del circuito \n",
    "deutsch(Q0,Q1,H,Uf,identidad)\n",
    "\n",
    "\n"
   ]
  }
 ],
 "metadata": {
  "kernelspec": {
   "display_name": "Python 3 (ipykernel)",
   "language": "python",
   "name": "python3"
  },
  "language_info": {
   "codemirror_mode": {
    "name": "ipython",
    "version": 3
   },
   "file_extension": ".py",
   "mimetype": "text/x-python",
   "name": "python",
   "nbconvert_exporter": "python",
   "pygments_lexer": "ipython3",
   "version": "3.12.5"
  }
 },
 "nbformat": 4,
 "nbformat_minor": 5
}
